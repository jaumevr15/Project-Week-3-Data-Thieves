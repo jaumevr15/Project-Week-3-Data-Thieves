{
 "nbformat": 4,
 "nbformat_minor": 2,
 "metadata": {
  "language_info": {
   "name": "python",
   "codemirror_mode": {
    "name": "ipython",
    "version": 3
   }
  },
  "orig_nbformat": 2,
  "file_extension": ".py",
  "mimetype": "text/x-python",
  "name": "python",
  "npconvert_exporter": "python",
  "pygments_lexer": "ipython3",
  "version": 3
 },
 "cells": [
  {
   "cell_type": "code",
   "execution_count": null,
   "metadata": {},
   "outputs": [],
   "source": [
    "#This file starts with the database resulted from the Data Cleaning process of the original 3 databases: Redtube Api, Xhamster Csv and Porntube csv. \n",
    "#From this point, we will optimize the data from our main database."
   ]
  }
 ]
}