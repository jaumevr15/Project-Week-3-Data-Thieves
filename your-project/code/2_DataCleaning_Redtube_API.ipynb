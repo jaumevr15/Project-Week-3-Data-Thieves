{
 "cells": [
  {
   "cell_type": "code",
   "execution_count": 4,
   "metadata": {},
   "outputs": [],
   "source": [
    "# Importing the necessary libraries that will be used.\n",
    "\n",
    "import json\n",
    "import requests\n",
    "import pandas as pd\n",
    "import numpy as np\n",
    "import random\n",
    "import sqlalchemy"
   ]
  },
  {
   "cell_type": "code",
   "execution_count": 2,
   "metadata": {},
   "outputs": [],
   "source": [
    "# Creating an empty list to append the jsons of all the videos in it.\n",
    "\n",
    "df = []"
   ]
  },
  {
   "cell_type": "code",
   "execution_count": 3,
   "metadata": {},
   "outputs": [],
   "source": [
    "# Opening the txt file that I save the list in, so I don't have to access the API again for the same video id.\n",
    "\n",
    "with open('Redtube_list.txt', 'r') as filehandle:\n",
    "    df = json.load(filehandle)"
   ]
  },
  {
   "cell_type": "code",
   "execution_count": 2,
   "metadata": {},
   "outputs": [],
   "source": [
    "\"\"\"\n",
    "I used random selection to go through the API, because I couldn't access all the videos on the website at once, \n",
    "I had to access each video individually using its id, I could only access the API 30000 times per day,\n",
    "in each time using different video id, some of the video IDs were empty, this is why out of 100000 time to \n",
    "access the API over 3 days, only 51900 videos were accessed.\n",
    "I had to run the code over several days to get the needed information,\n",
    "this is why I was saving the list to the PC so I can open it later and append the new data.\n",
    "\"\"\"\"\n",
    "\n",
    "\n",
    "for i in random.sample(range(0, 1500000), 100000):\n",
    "    url = f'https://api.redtube.com/?data=redtube.Videos.getVideoById&video_id={i}&output=json&thumbsize=all'\n",
    "    response = requests.get(url)\n",
    "    print(response.status_code)\n",
    "    if response.status_code == 200:\n",
    "        data = response.json()\n",
    "        df.append(data)\n",
    "        print(f'Finished df temp for number {i}')   \n",
    "print('Completed')"
   ]
  },
  {
   "cell_type": "code",
   "execution_count": 8,
   "metadata": {},
   "outputs": [],
   "source": [
    "# Unpacking the dictionaries that contain the information about the video from the list.\n",
    "\n",
    "video = []\n",
    "for i in df:\n",
    "    for key, value in i.items():\n",
    "        if key == 'video':\n",
    "            video.append(value)"
   ]
  },
  {
   "cell_type": "code",
   "execution_count": 9,
   "metadata": {},
   "outputs": [],
   "source": [
    "# Unpacking the dictionaries that contain the information about the tage/categories of each video from the list.\n",
    "\n",
    "tags = []\n",
    "for l in video:\n",
    "    for k,v in l.items():\n",
    "        if k == 'tags':\n",
    "            tags.append(v)"
   ]
  },
  {
   "cell_type": "code",
   "execution_count": 10,
   "metadata": {},
   "outputs": [],
   "source": [
    "# Creating empty arrays to append the needed information in each array\n",
    "\n",
    "views = np.array([])\n",
    "rating = np.array([])\n",
    "titles = np.array([])\n",
    "\n",
    "for dict1 in video:\n",
    "    for key1, value1 in dict1.items():\n",
    "        if key1 == 'views':\n",
    "            views = np.append(views, np.array([value1]))\n",
    "        elif key1 == 'rating':\n",
    "            rating = np.append(rating, np.array([value1]))\n",
    "        elif key1 == 'title':\n",
    "            titles = np.append(titles, np.array([value1]))          "
   ]
  },
  {
   "cell_type": "code",
   "execution_count": 11,
   "metadata": {},
   "outputs": [],
   "source": [
    "# Creating a table from the list containing tags/categories.\n",
    "\n",
    "categories = pd.DataFrame(tags)"
   ]
  },
  {
   "cell_type": "code",
   "execution_count": 12,
   "metadata": {},
   "outputs": [],
   "source": [
    "# Dropping the unnecessary categories as we agreed on only including the first three categories for each video.\n",
    "\n",
    "categories = categories.drop(categories.columns[[3,4,5,6,7,8,9,10,11,12,13,14,15,16,17,18,19,20,21,22,23,24,25]], axis=1)"
   ]
  },
  {
   "cell_type": "code",
   "execution_count": 13,
   "metadata": {},
   "outputs": [],
   "source": [
    "# Renaming the columns because they had numbers assigned to each column\n",
    "\n",
    "categories.columns = ['Category_1', 'Category_2', 'Category_3']"
   ]
  },
  {
   "cell_type": "code",
   "execution_count": 14,
   "metadata": {},
   "outputs": [],
   "source": [
    "# Combining the three arrays containing information about the (title of video, number of views & ratings) in one table.\n",
    "\n",
    "arrays = {'Title': titles, 'Number_of_Views': views, 'Rating': rating}\n",
    "table = pd.DataFrame(data=arrays)"
   ]
  },
  {
   "cell_type": "code",
   "execution_count": 15,
   "metadata": {},
   "outputs": [],
   "source": [
    "# Merging the table with the videos information with the table containing the categories.\n",
    "\n",
    "full_table = pd.merge(table, categories, left_index=True, right_index=True)"
   ]
  },
  {
   "cell_type": "code",
   "execution_count": 16,
   "metadata": {},
   "outputs": [],
   "source": [
    "# Adding a new column with the website name, to be able to distinguish the data, because we had three different sources.\n",
    "\n",
    "full_table['Website'] = 'Redtube'"
   ]
  },
  {
   "cell_type": "code",
   "execution_count": 17,
   "metadata": {},
   "outputs": [],
   "source": [
    "# Changing the type of data for each column with the type that we had agreed upon.\n",
    "\n",
    "full_table = full_table.astype({'Title': str, 'Number_of_Views': int, 'Rating': float, 'Category_1': str, 'Category_2': str, 'Category_3': str, 'Website': str})"
   ]
  },
  {
   "cell_type": "code",
   "execution_count": 18,
   "metadata": {},
   "outputs": [
    {
     "name": "stdout",
     "output_type": "stream",
     "text": [
      "<class 'pandas.core.frame.DataFrame'>\n",
      "RangeIndex: 51901 entries, 0 to 51900\n",
      "Data columns (total 7 columns):\n",
      "Title              51901 non-null object\n",
      "Number_of_Views    51901 non-null int32\n",
      "Rating             51901 non-null float64\n",
      "Category_1         51901 non-null object\n",
      "Category_2         51901 non-null object\n",
      "Category_3         51901 non-null object\n",
      "Website            51901 non-null object\n",
      "dtypes: float64(1), int32(1), object(5)\n",
      "memory usage: 2.6+ MB\n"
     ]
    }
   ],
   "source": [
    "#Making sure that the data types were changed accordingly. \n",
    "\n",
    "full_table.info()"
   ]
  },
  {
   "cell_type": "code",
   "execution_count": 19,
   "metadata": {},
   "outputs": [
    {
     "data": {
      "text/html": [
       "<div>\n",
       "<style scoped>\n",
       "    .dataframe tbody tr th:only-of-type {\n",
       "        vertical-align: middle;\n",
       "    }\n",
       "\n",
       "    .dataframe tbody tr th {\n",
       "        vertical-align: top;\n",
       "    }\n",
       "\n",
       "    .dataframe thead th {\n",
       "        text-align: right;\n",
       "    }\n",
       "</style>\n",
       "<table border=\"1\" class=\"dataframe\">\n",
       "  <thead>\n",
       "    <tr style=\"text-align: right;\">\n",
       "      <th></th>\n",
       "      <th>Title</th>\n",
       "      <th>Number_of_Views</th>\n",
       "      <th>Rating</th>\n",
       "      <th>Category_1</th>\n",
       "      <th>Category_2</th>\n",
       "      <th>Category_3</th>\n",
       "      <th>Website</th>\n",
       "    </tr>\n",
       "  </thead>\n",
       "  <tbody>\n",
       "    <tr>\n",
       "      <th>0</th>\n",
       "      <td>Glamour girl pleasuring herself</td>\n",
       "      <td>215864</td>\n",
       "      <td>88.1962</td>\n",
       "      <td>Amateur</td>\n",
       "      <td>Blonde</td>\n",
       "      <td>Caucasian</td>\n",
       "      <td>Redtube</td>\n",
       "    </tr>\n",
       "    <tr>\n",
       "      <th>1</th>\n",
       "      <td>Sexy artist seducing and bodypainting</td>\n",
       "      <td>107805</td>\n",
       "      <td>87.3641</td>\n",
       "      <td>Brunette</td>\n",
       "      <td>Glamour</td>\n",
       "      <td>Latin</td>\n",
       "      <td>Redtube</td>\n",
       "    </tr>\n",
       "    <tr>\n",
       "      <th>2</th>\n",
       "      <td>Sexy teen webcam striptease</td>\n",
       "      <td>627376</td>\n",
       "      <td>88.1806</td>\n",
       "      <td>Amateur</td>\n",
       "      <td>Black-haired</td>\n",
       "      <td>Latin</td>\n",
       "      <td>Redtube</td>\n",
       "    </tr>\n",
       "    <tr>\n",
       "      <th>3</th>\n",
       "      <td>Sweet girl deepthroating</td>\n",
       "      <td>152832</td>\n",
       "      <td>90.7239</td>\n",
       "      <td>Bikini</td>\n",
       "      <td>Blowjob</td>\n",
       "      <td>Caucasian</td>\n",
       "      <td>Redtube</td>\n",
       "    </tr>\n",
       "    <tr>\n",
       "      <th>4</th>\n",
       "      <td>Cybersex mistake</td>\n",
       "      <td>117170</td>\n",
       "      <td>88.1584</td>\n",
       "      <td>Caucasian</td>\n",
       "      <td>Couple</td>\n",
       "      <td>Funny</td>\n",
       "      <td>Redtube</td>\n",
       "    </tr>\n",
       "  </tbody>\n",
       "</table>\n",
       "</div>"
      ],
      "text/plain": [
       "                                   Title  Number_of_Views   Rating Category_1  \\\n",
       "0        Glamour girl pleasuring herself           215864  88.1962    Amateur   \n",
       "1  Sexy artist seducing and bodypainting           107805  87.3641   Brunette   \n",
       "2            Sexy teen webcam striptease           627376  88.1806    Amateur   \n",
       "3               Sweet girl deepthroating           152832  90.7239     Bikini   \n",
       "4                       Cybersex mistake           117170  88.1584  Caucasian   \n",
       "\n",
       "     Category_2 Category_3  Website  \n",
       "0        Blonde  Caucasian  Redtube  \n",
       "1       Glamour      Latin  Redtube  \n",
       "2  Black-haired      Latin  Redtube  \n",
       "3       Blowjob  Caucasian  Redtube  \n",
       "4        Couple      Funny  Redtube  "
      ]
     },
     "execution_count": 19,
     "metadata": {},
     "output_type": "execute_result"
    }
   ],
   "source": [
    "# Checking the head of the table, to make sure that it had the same order that we agreed upon.\n",
    "\n",
    "full_table.head()"
   ]
  },
  {
   "cell_type": "code",
   "execution_count": 20,
   "metadata": {},
   "outputs": [],
   "source": [
    "#Saving the table to PC as a form of BU.\n",
    "\n",
    "full_table.to_csv(r'C:\\\\Users\\\\user\\\\Downloads\\\\Data Analytics\\\\Directory\\\\Project-Week-3-Data-Thieves\\\\your-project\\\\Redtube_table.csv')"
   ]
  },
  {
   "cell_type": "code",
   "execution_count": 21,
   "metadata": {},
   "outputs": [],
   "source": [
    "# Establishing connection with the online shared database.\n",
    "\n",
    "driver = 'mysql+pymysql'\n",
    "user = 'root'\n",
    "password = 'Ironhack10'\n",
    "ip = '35.204.21.134'\n",
    "database = 'porn_analysis'\n",
    "\n",
    "conn_string = f'{driver}://{user}:{password}@{ip}/{database}'\n",
    "    \n",
    "conn = sqlalchemy.create_engine(conn_string)"
   ]
  },
  {
   "cell_type": "code",
   "execution_count": 34,
   "metadata": {
    "scrolled": true
   },
   "outputs": [],
   "source": [
    "# Pushing the table to the online shared database.\n",
    "\n",
    "full_table.to_sql('main', conn, if_exists = 'append')"
   ]
  },
  {
   "cell_type": "code",
   "execution_count": 49,
   "metadata": {},
   "outputs": [],
   "source": [
    "# Used this cell while getting the data from the API, to save the list and append the new data to the same list.\n",
    "\n",
    "with open('Ali_list.txt', 'w') as filehandle:\n",
    "    json.dump(df, filehandle)"
   ]
  }
 ],
 "metadata": {
  "kernelspec": {
   "display_name": "Python 3",
   "language": "python",
   "name": "python3"
  },
  "language_info": {
   "codemirror_mode": {
    "name": "ipython",
    "version": 3
   },
   "file_extension": ".py",
   "mimetype": "text/x-python",
   "name": "python",
   "nbconvert_exporter": "python",
   "pygments_lexer": "ipython3",
   "version": "3.7.3"
  }
 },
 "nbformat": 4,
 "nbformat_minor": 2
}
