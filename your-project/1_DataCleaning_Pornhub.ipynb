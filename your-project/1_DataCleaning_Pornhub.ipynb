{
 "cells": [
  {
   "cell_type": "markdown",
   "metadata": {},
   "source": [
    "# Data Cleaning Pornhub\n",
    "\n",
    "*In this document you will find the process of data cleaning of Pornhub database of movies.*"
   ]
  },
  {
   "cell_type": "markdown",
   "metadata": {},
   "source": [
    "1st we import pandas and numpy"
   ]
  },
  {
   "cell_type": "code",
   "execution_count": 2,
   "metadata": {},
   "outputs": [],
   "source": [
    "import pandas as pd\n",
    "import numpy as np"
   ]
  },
  {
   "cell_type": "code",
   "execution_count": 3,
   "metadata": {},
   "outputs": [
    {
     "data": {
      "text/plain": [
       "Index(['img_source', 'length', 'nb_views', 'quality', 'title', 'video_link',\n",
       "       'voting', 'categories', 'tags'],\n",
       "      dtype='object')"
      ]
     },
     "execution_count": 3,
     "metadata": {},
     "output_type": "execute_result"
    }
   ],
   "source": [
    "ph = pd.read_csv('/Users/Maria/Desktop/tumbzilla_labels.csv', index_col = 0)\n",
    "ph.columns"
   ]
  },
  {
   "cell_type": "markdown",
   "metadata": {},
   "source": [
    "We decided to drop 2 columns since we will not use that information, the columns are: img_source and video_link."
   ]
  },
  {
   "cell_type": "code",
   "execution_count": 4,
   "metadata": {},
   "outputs": [],
   "source": [
    "ph.drop(['img_source', 'video_link','tags', 'length', 'quality' ], axis = 1, inplace=True)"
   ]
  },
  {
   "cell_type": "code",
   "execution_count": 5,
   "metadata": {},
   "outputs": [
    {
     "data": {
      "text/plain": [
       "Index(['nb_views', 'title', 'voting', 'categories'], dtype='object')"
      ]
     },
     "execution_count": 5,
     "metadata": {},
     "output_type": "execute_result"
    }
   ],
   "source": [
    "ph.columns"
   ]
  },
  {
   "cell_type": "code",
   "execution_count": 6,
   "metadata": {},
   "outputs": [
    {
     "data": {
      "text/plain": [
       "nb_views      float64\n",
       "title          object\n",
       "voting        float64\n",
       "categories     object\n",
       "dtype: object"
      ]
     },
     "execution_count": 6,
     "metadata": {},
     "output_type": "execute_result"
    }
   ],
   "source": [
    "ph.dtypes"
   ]
  },
  {
   "cell_type": "code",
   "execution_count": 7,
   "metadata": {
    "scrolled": true
   },
   "outputs": [],
   "source": [
    "def cast_to_list(categories):\n",
    "    if pd.isnull(categories):\n",
    "        return categories\n",
    "    return [item.strip() for item in categories.split(\"__\")]\n",
    "\n",
    "ph['categories']= ph['categories'].apply(cast_to_list)"
   ]
  },
  {
   "cell_type": "code",
   "execution_count": 8,
   "metadata": {},
   "outputs": [
    {
     "data": {
      "text/html": [
       "<div>\n",
       "<style scoped>\n",
       "    .dataframe tbody tr th:only-of-type {\n",
       "        vertical-align: middle;\n",
       "    }\n",
       "\n",
       "    .dataframe tbody tr th {\n",
       "        vertical-align: top;\n",
       "    }\n",
       "\n",
       "    .dataframe thead th {\n",
       "        text-align: right;\n",
       "    }\n",
       "</style>\n",
       "<table border=\"1\" class=\"dataframe\">\n",
       "  <thead>\n",
       "    <tr style=\"text-align: right;\">\n",
       "      <th></th>\n",
       "      <th>nb_views</th>\n",
       "      <th>title</th>\n",
       "      <th>voting</th>\n",
       "      <th>categories</th>\n",
       "    </tr>\n",
       "  </thead>\n",
       "  <tbody>\n",
       "    <tr>\n",
       "      <th>0</th>\n",
       "      <td>127450.0</td>\n",
       "      <td>Tease then suck</td>\n",
       "      <td>84.0</td>\n",
       "      <td>[Blowjob]</td>\n",
       "    </tr>\n",
       "    <tr>\n",
       "      <th>1</th>\n",
       "      <td>480620.0</td>\n",
       "      <td>Two hot chick on one dick</td>\n",
       "      <td>79.0</td>\n",
       "      <td>[Threesome]</td>\n",
       "    </tr>\n",
       "    <tr>\n",
       "      <th>2</th>\n",
       "      <td>99720.0</td>\n",
       "      <td>Chick stretches her pussy and blows for the cam</td>\n",
       "      <td>77.0</td>\n",
       "      <td>[Brunette]</td>\n",
       "    </tr>\n",
       "    <tr>\n",
       "      <th>3</th>\n",
       "      <td>598820.0</td>\n",
       "      <td>Fucking my neighbour</td>\n",
       "      <td>80.0</td>\n",
       "      <td>[Blonde, MILF]</td>\n",
       "    </tr>\n",
       "    <tr>\n",
       "      <th>4</th>\n",
       "      <td>155850.0</td>\n",
       "      <td>Small titted whore sucking a cock for lunch</td>\n",
       "      <td>79.0</td>\n",
       "      <td>[POV]</td>\n",
       "    </tr>\n",
       "  </tbody>\n",
       "</table>\n",
       "</div>"
      ],
      "text/plain": [
       "   nb_views                                            title  voting  \\\n",
       "0  127450.0                                  Tease then suck    84.0   \n",
       "1  480620.0                        Two hot chick on one dick    79.0   \n",
       "2   99720.0  Chick stretches her pussy and blows for the cam    77.0   \n",
       "3  598820.0                             Fucking my neighbour    80.0   \n",
       "4  155850.0      Small titted whore sucking a cock for lunch    79.0   \n",
       "\n",
       "       categories  \n",
       "0       [Blowjob]  \n",
       "1     [Threesome]  \n",
       "2      [Brunette]  \n",
       "3  [Blonde, MILF]  \n",
       "4           [POV]  "
      ]
     },
     "execution_count": 8,
     "metadata": {},
     "output_type": "execute_result"
    }
   ],
   "source": [
    "ph.head()"
   ]
  },
  {
   "cell_type": "code",
   "execution_count": 9,
   "metadata": {},
   "outputs": [],
   "source": [
    "categories = ph['categories'].apply(pd.Series)"
   ]
  },
  {
   "cell_type": "code",
   "execution_count": 10,
   "metadata": {},
   "outputs": [],
   "source": [
    "categories.drop(columns = [3,4,5,6,7,8,9,10,11], inplace = True)"
   ]
  },
  {
   "cell_type": "code",
   "execution_count": 11,
   "metadata": {},
   "outputs": [],
   "source": [
    "categories.rename(columns = {0:'Category_1', 1:'Category_2', 2:'Category_3'}, inplace = True)"
   ]
  },
  {
   "cell_type": "code",
   "execution_count": 12,
   "metadata": {},
   "outputs": [],
   "source": [
    "ph_merged = ph.merge(right = categories, left_index = True, right_index=True)"
   ]
  },
  {
   "cell_type": "code",
   "execution_count": 13,
   "metadata": {},
   "outputs": [
    {
     "data": {
      "text/html": [
       "<div>\n",
       "<style scoped>\n",
       "    .dataframe tbody tr th:only-of-type {\n",
       "        vertical-align: middle;\n",
       "    }\n",
       "\n",
       "    .dataframe tbody tr th {\n",
       "        vertical-align: top;\n",
       "    }\n",
       "\n",
       "    .dataframe thead th {\n",
       "        text-align: right;\n",
       "    }\n",
       "</style>\n",
       "<table border=\"1\" class=\"dataframe\">\n",
       "  <thead>\n",
       "    <tr style=\"text-align: right;\">\n",
       "      <th></th>\n",
       "      <th>nb_views</th>\n",
       "      <th>title</th>\n",
       "      <th>voting</th>\n",
       "      <th>categories</th>\n",
       "      <th>Category_1</th>\n",
       "      <th>Category_2</th>\n",
       "      <th>Category_3</th>\n",
       "      <th>Website</th>\n",
       "    </tr>\n",
       "  </thead>\n",
       "  <tbody>\n",
       "    <tr>\n",
       "      <th>0</th>\n",
       "      <td>127450.0</td>\n",
       "      <td>Tease then suck</td>\n",
       "      <td>84.0</td>\n",
       "      <td>[Blowjob]</td>\n",
       "      <td>Blowjob</td>\n",
       "      <td>NaN</td>\n",
       "      <td>NaN</td>\n",
       "      <td>Pornhub</td>\n",
       "    </tr>\n",
       "    <tr>\n",
       "      <th>1</th>\n",
       "      <td>480620.0</td>\n",
       "      <td>Two hot chick on one dick</td>\n",
       "      <td>79.0</td>\n",
       "      <td>[Threesome]</td>\n",
       "      <td>Threesome</td>\n",
       "      <td>NaN</td>\n",
       "      <td>NaN</td>\n",
       "      <td>Pornhub</td>\n",
       "    </tr>\n",
       "  </tbody>\n",
       "</table>\n",
       "</div>"
      ],
      "text/plain": [
       "   nb_views                      title  voting   categories Category_1  \\\n",
       "0  127450.0            Tease then suck    84.0    [Blowjob]    Blowjob   \n",
       "1  480620.0  Two hot chick on one dick    79.0  [Threesome]  Threesome   \n",
       "\n",
       "  Category_2 Category_3  Website  \n",
       "0        NaN        NaN  Pornhub  \n",
       "1        NaN        NaN  Pornhub  "
      ]
     },
     "execution_count": 13,
     "metadata": {},
     "output_type": "execute_result"
    }
   ],
   "source": [
    "ph_merged['Website'] = \"Pornhub\"\n",
    "ph_merged.head(2)"
   ]
  },
  {
   "cell_type": "code",
   "execution_count": 14,
   "metadata": {},
   "outputs": [
    {
     "data": {
      "text/plain": [
       "nb_views        int32\n",
       "title          object\n",
       "voting        float64\n",
       "categories     object\n",
       "Category_1     object\n",
       "Category_2     object\n",
       "Category_3     object\n",
       "Website        object\n",
       "dtype: object"
      ]
     },
     "execution_count": 14,
     "metadata": {},
     "output_type": "execute_result"
    }
   ],
   "source": [
    "ph_merged.astype({'nb_views': 'int32'}).dtypes"
   ]
  },
  {
   "cell_type": "code",
   "execution_count": 15,
   "metadata": {},
   "outputs": [
    {
     "data": {
      "text/plain": [
       "Index(['nb_views', 'title', 'voting', 'categories', 'Category_1', 'Category_2',\n",
       "       'Category_3', 'Website'],\n",
       "      dtype='object')"
      ]
     },
     "execution_count": 15,
     "metadata": {},
     "output_type": "execute_result"
    }
   ],
   "source": [
    "ph_merged.columns"
   ]
  },
  {
   "cell_type": "code",
   "execution_count": 16,
   "metadata": {},
   "outputs": [
    {
     "data": {
      "text/html": [
       "<div>\n",
       "<style scoped>\n",
       "    .dataframe tbody tr th:only-of-type {\n",
       "        vertical-align: middle;\n",
       "    }\n",
       "\n",
       "    .dataframe tbody tr th {\n",
       "        vertical-align: top;\n",
       "    }\n",
       "\n",
       "    .dataframe thead th {\n",
       "        text-align: right;\n",
       "    }\n",
       "</style>\n",
       "<table border=\"1\" class=\"dataframe\">\n",
       "  <thead>\n",
       "    <tr style=\"text-align: right;\">\n",
       "      <th></th>\n",
       "      <th>nb_views</th>\n",
       "      <th>title</th>\n",
       "      <th>voting</th>\n",
       "      <th>Category_1</th>\n",
       "      <th>Category_2</th>\n",
       "      <th>Category_3</th>\n",
       "      <th>Website</th>\n",
       "    </tr>\n",
       "  </thead>\n",
       "  <tbody>\n",
       "    <tr>\n",
       "      <th>0</th>\n",
       "      <td>127450.0</td>\n",
       "      <td>Tease then suck</td>\n",
       "      <td>84.0</td>\n",
       "      <td>Blowjob</td>\n",
       "      <td>NaN</td>\n",
       "      <td>NaN</td>\n",
       "      <td>Pornhub</td>\n",
       "    </tr>\n",
       "    <tr>\n",
       "      <th>1</th>\n",
       "      <td>480620.0</td>\n",
       "      <td>Two hot chick on one dick</td>\n",
       "      <td>79.0</td>\n",
       "      <td>Threesome</td>\n",
       "      <td>NaN</td>\n",
       "      <td>NaN</td>\n",
       "      <td>Pornhub</td>\n",
       "    </tr>\n",
       "    <tr>\n",
       "      <th>2</th>\n",
       "      <td>99720.0</td>\n",
       "      <td>Chick stretches her pussy and blows for the cam</td>\n",
       "      <td>77.0</td>\n",
       "      <td>Brunette</td>\n",
       "      <td>NaN</td>\n",
       "      <td>NaN</td>\n",
       "      <td>Pornhub</td>\n",
       "    </tr>\n",
       "    <tr>\n",
       "      <th>3</th>\n",
       "      <td>598820.0</td>\n",
       "      <td>Fucking my neighbour</td>\n",
       "      <td>80.0</td>\n",
       "      <td>Blonde</td>\n",
       "      <td>MILF</td>\n",
       "      <td>NaN</td>\n",
       "      <td>Pornhub</td>\n",
       "    </tr>\n",
       "    <tr>\n",
       "      <th>4</th>\n",
       "      <td>155850.0</td>\n",
       "      <td>Small titted whore sucking a cock for lunch</td>\n",
       "      <td>79.0</td>\n",
       "      <td>POV</td>\n",
       "      <td>NaN</td>\n",
       "      <td>NaN</td>\n",
       "      <td>Pornhub</td>\n",
       "    </tr>\n",
       "    <tr>\n",
       "      <th>...</th>\n",
       "      <td>...</td>\n",
       "      <td>...</td>\n",
       "      <td>...</td>\n",
       "      <td>...</td>\n",
       "      <td>...</td>\n",
       "      <td>...</td>\n",
       "      <td>...</td>\n",
       "    </tr>\n",
       "    <tr>\n",
       "      <th>191527</th>\n",
       "      <td>257540.0</td>\n",
       "      <td>Czech taxi 39</td>\n",
       "      <td>75.0</td>\n",
       "      <td>Public</td>\n",
       "      <td>Double Penetration</td>\n",
       "      <td>Czech</td>\n",
       "      <td>Pornhub</td>\n",
       "    </tr>\n",
       "    <tr>\n",
       "      <th>191528</th>\n",
       "      <td>73960.0</td>\n",
       "      <td>Casanova Holmes - Quality Vintage 1970s XXX</td>\n",
       "      <td>70.0</td>\n",
       "      <td>For Women</td>\n",
       "      <td>Vintage</td>\n",
       "      <td>Big Dick</td>\n",
       "      <td>Pornhub</td>\n",
       "    </tr>\n",
       "    <tr>\n",
       "      <th>191529</th>\n",
       "      <td>419960.0</td>\n",
       "      <td>19 Year Old Blonde Fuck in a threesome</td>\n",
       "      <td>74.0</td>\n",
       "      <td>Babe</td>\n",
       "      <td>Exclusive</td>\n",
       "      <td>Verified Amateurs</td>\n",
       "      <td>Pornhub</td>\n",
       "    </tr>\n",
       "    <tr>\n",
       "      <th>191530</th>\n",
       "      <td>216150.0</td>\n",
       "      <td>Virtual Sex - Anya Ivy</td>\n",
       "      <td>72.0</td>\n",
       "      <td>Big Tits</td>\n",
       "      <td>POV</td>\n",
       "      <td>Fetish</td>\n",
       "      <td>Pornhub</td>\n",
       "    </tr>\n",
       "    <tr>\n",
       "      <th>191531</th>\n",
       "      <td>201700.0</td>\n",
       "      <td>Brazzers - Ebony teen Peyton Sweet loves white...</td>\n",
       "      <td>74.0</td>\n",
       "      <td>Big Ass</td>\n",
       "      <td>HD</td>\n",
       "      <td>Hardcore</td>\n",
       "      <td>Pornhub</td>\n",
       "    </tr>\n",
       "  </tbody>\n",
       "</table>\n",
       "<p>191532 rows × 7 columns</p>\n",
       "</div>"
      ],
      "text/plain": [
       "        nb_views                                              title  voting  \\\n",
       "0       127450.0                                    Tease then suck    84.0   \n",
       "1       480620.0                          Two hot chick on one dick    79.0   \n",
       "2        99720.0    Chick stretches her pussy and blows for the cam    77.0   \n",
       "3       598820.0                               Fucking my neighbour    80.0   \n",
       "4       155850.0        Small titted whore sucking a cock for lunch    79.0   \n",
       "...          ...                                                ...     ...   \n",
       "191527  257540.0                                      Czech taxi 39    75.0   \n",
       "191528   73960.0        Casanova Holmes - Quality Vintage 1970s XXX    70.0   \n",
       "191529  419960.0             19 Year Old Blonde Fuck in a threesome    74.0   \n",
       "191530  216150.0                             Virtual Sex - Anya Ivy    72.0   \n",
       "191531  201700.0  Brazzers - Ebony teen Peyton Sweet loves white...    74.0   \n",
       "\n",
       "       Category_1          Category_2         Category_3  Website  \n",
       "0         Blowjob                 NaN                NaN  Pornhub  \n",
       "1       Threesome                 NaN                NaN  Pornhub  \n",
       "2        Brunette                 NaN                NaN  Pornhub  \n",
       "3          Blonde                MILF                NaN  Pornhub  \n",
       "4             POV                 NaN                NaN  Pornhub  \n",
       "...           ...                 ...                ...      ...  \n",
       "191527     Public  Double Penetration              Czech  Pornhub  \n",
       "191528  For Women             Vintage           Big Dick  Pornhub  \n",
       "191529       Babe           Exclusive  Verified Amateurs  Pornhub  \n",
       "191530   Big Tits                 POV             Fetish  Pornhub  \n",
       "191531    Big Ass                  HD           Hardcore  Pornhub  \n",
       "\n",
       "[191532 rows x 7 columns]"
      ]
     },
     "execution_count": 16,
     "metadata": {},
     "output_type": "execute_result"
    }
   ],
   "source": [
    "ph_merged.drop(columns = 'categories')"
   ]
  },
  {
   "cell_type": "code",
   "execution_count": 17,
   "metadata": {},
   "outputs": [],
   "source": [
    "ph_merged.rename(columns = {'nb_views':'Number_of_Views','title':'Title','voting':'Rating'}, inplace = True)"
   ]
  },
  {
   "cell_type": "code",
   "execution_count": 18,
   "metadata": {},
   "outputs": [],
   "source": [
    "ph_merged = ph_merged[['Title', 'Number_of_Views', 'Rating', 'Category_1', 'Category_2', 'Category_3', 'Website']]"
   ]
  },
  {
   "cell_type": "code",
   "execution_count": 19,
   "metadata": {},
   "outputs": [
    {
     "data": {
      "text/html": [
       "<div>\n",
       "<style scoped>\n",
       "    .dataframe tbody tr th:only-of-type {\n",
       "        vertical-align: middle;\n",
       "    }\n",
       "\n",
       "    .dataframe tbody tr th {\n",
       "        vertical-align: top;\n",
       "    }\n",
       "\n",
       "    .dataframe thead th {\n",
       "        text-align: right;\n",
       "    }\n",
       "</style>\n",
       "<table border=\"1\" class=\"dataframe\">\n",
       "  <thead>\n",
       "    <tr style=\"text-align: right;\">\n",
       "      <th></th>\n",
       "      <th>Title</th>\n",
       "      <th>Number_of_Views</th>\n",
       "      <th>Rating</th>\n",
       "      <th>Category_1</th>\n",
       "      <th>Category_2</th>\n",
       "      <th>Category_3</th>\n",
       "      <th>Website</th>\n",
       "    </tr>\n",
       "  </thead>\n",
       "  <tbody>\n",
       "    <tr>\n",
       "      <th>0</th>\n",
       "      <td>Tease then suck</td>\n",
       "      <td>127450.0</td>\n",
       "      <td>84.0</td>\n",
       "      <td>Blowjob</td>\n",
       "      <td>NaN</td>\n",
       "      <td>NaN</td>\n",
       "      <td>Pornhub</td>\n",
       "    </tr>\n",
       "    <tr>\n",
       "      <th>1</th>\n",
       "      <td>Two hot chick on one dick</td>\n",
       "      <td>480620.0</td>\n",
       "      <td>79.0</td>\n",
       "      <td>Threesome</td>\n",
       "      <td>NaN</td>\n",
       "      <td>NaN</td>\n",
       "      <td>Pornhub</td>\n",
       "    </tr>\n",
       "    <tr>\n",
       "      <th>2</th>\n",
       "      <td>Chick stretches her pussy and blows for the cam</td>\n",
       "      <td>99720.0</td>\n",
       "      <td>77.0</td>\n",
       "      <td>Brunette</td>\n",
       "      <td>NaN</td>\n",
       "      <td>NaN</td>\n",
       "      <td>Pornhub</td>\n",
       "    </tr>\n",
       "  </tbody>\n",
       "</table>\n",
       "</div>"
      ],
      "text/plain": [
       "                                             Title  Number_of_Views  Rating  \\\n",
       "0                                  Tease then suck         127450.0    84.0   \n",
       "1                        Two hot chick on one dick         480620.0    79.0   \n",
       "2  Chick stretches her pussy and blows for the cam          99720.0    77.0   \n",
       "\n",
       "  Category_1 Category_2 Category_3  Website  \n",
       "0    Blowjob        NaN        NaN  Pornhub  \n",
       "1  Threesome        NaN        NaN  Pornhub  \n",
       "2   Brunette        NaN        NaN  Pornhub  "
      ]
     },
     "execution_count": 19,
     "metadata": {},
     "output_type": "execute_result"
    }
   ],
   "source": [
    "ph_merged.head(3)"
   ]
  },
  {
   "cell_type": "code",
   "execution_count": 20,
   "metadata": {},
   "outputs": [],
   "source": [
    "from sqlalchemy import create_engine\n",
    "driver = 'mysql+pymysql'\n",
    "ip = '35.204.21.134'\n",
    "username = 'root'\n",
    "password = 'Ironhack10'\n",
    "db = 'porn_analysis'\n",
    "connection_string  = f'{driver}://{username}:{password}@{ip}/{db}'\n",
    "engine = create_engine(connection_string)"
   ]
  },
  {
   "cell_type": "code",
   "execution_count": 21,
   "metadata": {},
   "outputs": [],
   "source": [
    "ph_merged.to_sql(name = 'main', con = connection_string)"
   ]
  },
  {
   "cell_type": "code",
   "execution_count": 74,
   "metadata": {},
   "outputs": [],
   "source": [
    "k = pd.read_csv('/Users/Maria/Desktop/Ironhack/Programs/Redtube_table.csv')"
   ]
  },
  {
   "cell_type": "code",
   "execution_count": 76,
   "metadata": {},
   "outputs": [
    {
     "data": {
      "text/html": [
       "<div>\n",
       "<style scoped>\n",
       "    .dataframe tbody tr th:only-of-type {\n",
       "        vertical-align: middle;\n",
       "    }\n",
       "\n",
       "    .dataframe tbody tr th {\n",
       "        vertical-align: top;\n",
       "    }\n",
       "\n",
       "    .dataframe thead th {\n",
       "        text-align: right;\n",
       "    }\n",
       "</style>\n",
       "<table border=\"1\" class=\"dataframe\">\n",
       "  <thead>\n",
       "    <tr style=\"text-align: right;\">\n",
       "      <th></th>\n",
       "      <th>Unnamed: 0</th>\n",
       "      <th>Title</th>\n",
       "      <th>Number_of_Views</th>\n",
       "      <th>Rating</th>\n",
       "      <th>Category_1</th>\n",
       "      <th>Category_2</th>\n",
       "      <th>Category_3</th>\n",
       "      <th>Website</th>\n",
       "    </tr>\n",
       "  </thead>\n",
       "  <tbody>\n",
       "    <tr>\n",
       "      <th>0</th>\n",
       "      <td>0</td>\n",
       "      <td>Glamour girl pleasuring herself</td>\n",
       "      <td>215864</td>\n",
       "      <td>88.1962</td>\n",
       "      <td>Amateur</td>\n",
       "      <td>Blonde</td>\n",
       "      <td>Caucasian</td>\n",
       "      <td>Redtube</td>\n",
       "    </tr>\n",
       "    <tr>\n",
       "      <th>1</th>\n",
       "      <td>1</td>\n",
       "      <td>Sexy artist seducing and bodypainting</td>\n",
       "      <td>107805</td>\n",
       "      <td>87.3641</td>\n",
       "      <td>Brunette</td>\n",
       "      <td>Glamour</td>\n",
       "      <td>Latin</td>\n",
       "      <td>Redtube</td>\n",
       "    </tr>\n",
       "    <tr>\n",
       "      <th>2</th>\n",
       "      <td>2</td>\n",
       "      <td>Sexy teen webcam striptease</td>\n",
       "      <td>627376</td>\n",
       "      <td>88.1806</td>\n",
       "      <td>Amateur</td>\n",
       "      <td>Black-haired</td>\n",
       "      <td>Latin</td>\n",
       "      <td>Redtube</td>\n",
       "    </tr>\n",
       "    <tr>\n",
       "      <th>3</th>\n",
       "      <td>3</td>\n",
       "      <td>Sweet girl deepthroating</td>\n",
       "      <td>152832</td>\n",
       "      <td>90.7239</td>\n",
       "      <td>Bikini</td>\n",
       "      <td>Blowjob</td>\n",
       "      <td>Caucasian</td>\n",
       "      <td>Redtube</td>\n",
       "    </tr>\n",
       "    <tr>\n",
       "      <th>4</th>\n",
       "      <td>4</td>\n",
       "      <td>Cybersex mistake</td>\n",
       "      <td>117170</td>\n",
       "      <td>88.1584</td>\n",
       "      <td>Caucasian</td>\n",
       "      <td>Couple</td>\n",
       "      <td>Funny</td>\n",
       "      <td>Redtube</td>\n",
       "    </tr>\n",
       "    <tr>\n",
       "      <th>...</th>\n",
       "      <td>...</td>\n",
       "      <td>...</td>\n",
       "      <td>...</td>\n",
       "      <td>...</td>\n",
       "      <td>...</td>\n",
       "      <td>...</td>\n",
       "      <td>...</td>\n",
       "      <td>...</td>\n",
       "    </tr>\n",
       "    <tr>\n",
       "      <th>51896</th>\n",
       "      <td>51896</td>\n",
       "      <td>Asian cheating and cum swallowing with a whit</td>\n",
       "      <td>1345</td>\n",
       "      <td>0.0000</td>\n",
       "      <td>Couple</td>\n",
       "      <td>None</td>\n",
       "      <td>None</td>\n",
       "      <td>Redtube</td>\n",
       "    </tr>\n",
       "    <tr>\n",
       "      <th>51897</th>\n",
       "      <td>51897</td>\n",
       "      <td>CFNM sex education</td>\n",
       "      <td>645043</td>\n",
       "      <td>73.8308</td>\n",
       "      <td>Big Tits</td>\n",
       "      <td>Black-haired</td>\n",
       "      <td>Blonde</td>\n",
       "      <td>Redtube</td>\n",
       "    </tr>\n",
       "    <tr>\n",
       "      <th>51898</th>\n",
       "      <td>51898</td>\n",
       "      <td>Quelle Famille Bordel</td>\n",
       "      <td>148530</td>\n",
       "      <td>87.8407</td>\n",
       "      <td>Blonde</td>\n",
       "      <td>Blowjob</td>\n",
       "      <td>Brunette</td>\n",
       "      <td>Redtube</td>\n",
       "    </tr>\n",
       "    <tr>\n",
       "      <th>51899</th>\n",
       "      <td>51899</td>\n",
       "      <td>Hot redhead gf 1st time anal 5 star</td>\n",
       "      <td>3182</td>\n",
       "      <td>80.0000</td>\n",
       "      <td>Amateur</td>\n",
       "      <td>Redhead</td>\n",
       "      <td>Webcam</td>\n",
       "      <td>Redtube</td>\n",
       "    </tr>\n",
       "    <tr>\n",
       "      <th>51900</th>\n",
       "      <td>51900</td>\n",
       "      <td>Short brown hair cute gay sex video The</td>\n",
       "      <td>558</td>\n",
       "      <td>100.0000</td>\n",
       "      <td>Gay</td>\n",
       "      <td>Gay Couple</td>\n",
       "      <td>Hairy</td>\n",
       "      <td>Redtube</td>\n",
       "    </tr>\n",
       "  </tbody>\n",
       "</table>\n",
       "<p>51901 rows × 8 columns</p>\n",
       "</div>"
      ],
      "text/plain": [
       "       Unnamed: 0                                          Title  \\\n",
       "0               0                Glamour girl pleasuring herself   \n",
       "1               1          Sexy artist seducing and bodypainting   \n",
       "2               2                    Sexy teen webcam striptease   \n",
       "3               3                       Sweet girl deepthroating   \n",
       "4               4                               Cybersex mistake   \n",
       "...           ...                                            ...   \n",
       "51896       51896  Asian cheating and cum swallowing with a whit   \n",
       "51897       51897                             CFNM sex education   \n",
       "51898       51898                          Quelle Famille Bordel   \n",
       "51899       51899            Hot redhead gf 1st time anal 5 star   \n",
       "51900       51900        Short brown hair cute gay sex video The   \n",
       "\n",
       "       Number_of_Views    Rating Category_1    Category_2 Category_3  Website  \n",
       "0               215864   88.1962    Amateur        Blonde  Caucasian  Redtube  \n",
       "1               107805   87.3641   Brunette       Glamour      Latin  Redtube  \n",
       "2               627376   88.1806    Amateur  Black-haired      Latin  Redtube  \n",
       "3               152832   90.7239     Bikini       Blowjob  Caucasian  Redtube  \n",
       "4               117170   88.1584  Caucasian        Couple      Funny  Redtube  \n",
       "...                ...       ...        ...           ...        ...      ...  \n",
       "51896             1345    0.0000     Couple          None       None  Redtube  \n",
       "51897           645043   73.8308   Big Tits  Black-haired     Blonde  Redtube  \n",
       "51898           148530   87.8407     Blonde       Blowjob   Brunette  Redtube  \n",
       "51899             3182   80.0000    Amateur       Redhead     Webcam  Redtube  \n",
       "51900              558  100.0000        Gay    Gay Couple      Hairy  Redtube  \n",
       "\n",
       "[51901 rows x 8 columns]"
      ]
     },
     "execution_count": 76,
     "metadata": {},
     "output_type": "execute_result"
    }
   ],
   "source": [
    "k.rename(columns = {'Numbe_of_Views':'Number_of_Views'})"
   ]
  },
  {
   "cell_type": "code",
   "execution_count": null,
   "metadata": {},
   "outputs": [],
   "source": [
    "k"
   ]
  }
 ],
 "metadata": {
  "kernelspec": {
   "display_name": "Python 3",
   "language": "python",
   "name": "python3"
  },
  "language_info": {
   "codemirror_mode": {
    "name": "ipython",
    "version": 3
   },
   "file_extension": ".py",
   "mimetype": "text/x-python",
   "name": "python",
   "nbconvert_exporter": "python",
   "pygments_lexer": "ipython3",
   "version": "3.7.3"
  }
 },
 "nbformat": 4,
 "nbformat_minor": 2
}
