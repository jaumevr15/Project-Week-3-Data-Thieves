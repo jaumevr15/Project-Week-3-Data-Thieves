{
 "nbformat": 4,
 "nbformat_minor": 2,
 "metadata": {
  "language_info": {
   "name": "python",
   "codemirror_mode": {
    "name": "ipython",
    "version": 3
   }
  },
  "orig_nbformat": 2,
  "file_extension": ".py",
  "mimetype": "text/x-python",
  "name": "python",
  "npconvert_exporter": "python",
  "pygments_lexer": "ipython3",
  "version": 3
 },
 "cells": [
  {
   "cell_type": "markdown",
   "execution_count": null,
   "metadata": {},
   "outputs": [],
   "source": [
    "Xhamster Data Cleaning"
   ]
  },
  {
   "cell_type": "code",
   "execution_count": 7,
   "metadata": {},
   "outputs": [],
   "source": [
    "import pandas as pd\n",
    "import numpy as np\n",
    "import re"
   ]
  },
  {
   "cell_type": "code",
   "execution_count": 17,
   "metadata": {},
   "outputs": [
    {
     "data": {
      "text/plain": "(786121, 10)"
     },
     "execution_count": 17,
     "metadata": {},
     "output_type": "execute_result"
    }
   ],
   "source": [
    "#Xhamster dataset comes from https://sexualitics.github.io/ which contains 786120 rows containing videos' data.\n",
    "df = pd.read_csv('xhamster.csv')\n",
    "df.shape"
   ]
  },
  {
   "cell_type": "code",
   "execution_count": 19,
   "metadata": {},
   "outputs": [
    {
     "data": {
      "text/html": "<div>\n<style scoped>\n    .dataframe tbody tr th:only-of-type {\n        vertical-align: middle;\n    }\n\n    .dataframe tbody tr th {\n        vertical-align: top;\n    }\n\n    .dataframe thead th {\n        text-align: right;\n    }\n</style>\n<table border=\"1\" class=\"dataframe\">\n  <thead>\n    <tr style=\"text-align: right;\">\n      <th></th>\n      <th>id</th>\n      <th>title</th>\n      <th>channels</th>\n      <th>nb_views</th>\n      <th>nb_votes</th>\n    </tr>\n  </thead>\n  <tbody>\n    <tr>\n      <th>619030</th>\n      <td>156626</td>\n      <td>arab hijab sex</td>\n      <td>['Amateur', 'BBW', 'Fingering', 'Arab']</td>\n      <td>8286734.0</td>\n      <td>4494.0</td>\n    </tr>\n    <tr>\n      <th>747466</th>\n      <td>277227</td>\n      <td>my stepmother in the kitchen early morning</td>\n      <td>['Blondes', 'Big Boobs', 'Matures']</td>\n      <td>7432547.0</td>\n      <td>7333.0</td>\n    </tr>\n    <tr>\n      <th>82071</th>\n      <td>230295</td>\n      <td>bbw my gir</td>\n      <td>['Amateur', 'BBW', 'Tits']</td>\n      <td>7243879.0</td>\n      <td>3444.0</td>\n    </tr>\n    <tr>\n      <th>19121</th>\n      <td>383947</td>\n      <td>stepdaddy f70</td>\n      <td>['Hardcore', 'Old+Young', 'Teens']</td>\n      <td>6353489.0</td>\n      <td>6230.0</td>\n    </tr>\n    <tr>\n      <th>32755</th>\n      <td>370343</td>\n      <td>the mom was never able to do patience 2</td>\n      <td>['Asian', 'Matures', 'Tits']</td>\n      <td>6092737.0</td>\n      <td>3438.0</td>\n    </tr>\n  </tbody>\n</table>\n</div>",
      "text/plain": "            id                                       title  \\\n619030  156626                              arab hijab sex   \n747466  277227  my stepmother in the kitchen early morning   \n82071   230295                                  bbw my gir   \n19121   383947                               stepdaddy f70   \n32755   370343     the mom was never able to do patience 2   \n\n                                       channels   nb_views  nb_votes  \n619030  ['Amateur', 'BBW', 'Fingering', 'Arab']  8286734.0    4494.0  \n747466      ['Blondes', 'Big Boobs', 'Matures']  7432547.0    7333.0  \n82071                ['Amateur', 'BBW', 'Tits']  7243879.0    3444.0  \n19121        ['Hardcore', 'Old+Young', 'Teens']  6353489.0    6230.0  \n32755              ['Asian', 'Matures', 'Tits']  6092737.0    3438.0  "
     },
     "execution_count": 19,
     "metadata": {},
     "output_type": "execute_result"
    }
   ],
   "source": [
    "df_clean = df[['id','title','channels','nb_views','nb_votes']]\n",
    "df_clean.sort_values('nb_views',ascending=False).head()"
   ]
  }
 ]
}