{
 "nbformat": 4,
 "nbformat_minor": 2,
 "metadata": {
  "language_info": {
   "name": "python",
   "codemirror_mode": {
    "name": "ipython",
    "version": 3
   }
  },
  "orig_nbformat": 2,
  "file_extension": ".py",
  "mimetype": "text/x-python",
  "name": "python",
  "npconvert_exporter": "python",
  "pygments_lexer": "ipython3",
  "version": 3
 },
 "cells": [
  {
   "cell_type": "code",
   "execution_count": 1,
   "metadata": {},
   "outputs": [],
   "source": [
    "import pandas as pd\n",
    "import re\n",
    "import numpy as np"
   ]
  },
  {
   "cell_type": "code",
   "execution_count": 80,
   "metadata": {},
   "outputs": [
    {
     "data": {
      "text/html": "<div>\n<style scoped>\n    .dataframe tbody tr th:only-of-type {\n        vertical-align: middle;\n    }\n\n    .dataframe tbody tr th {\n        vertical-align: top;\n    }\n\n    .dataframe thead th {\n        text-align: right;\n    }\n</style>\n<table border=\"1\" class=\"dataframe\">\n  <thead>\n    <tr style=\"text-align: right;\">\n      <th></th>\n      <th>Category</th>\n      <th>Count_Total</th>\n      <th>Total_views</th>\n      <th>Avg_Rating</th>\n    </tr>\n  </thead>\n  <tbody>\n    <tr>\n      <th>0</th>\n      <td>3D</td>\n      <td>40.0</td>\n      <td>2.807189e+06</td>\n      <td>71.650000</td>\n    </tr>\n    <tr>\n      <th>1</th>\n      <td>60fps</td>\n      <td>315.0</td>\n      <td>3.695958e+07</td>\n      <td>73.030928</td>\n    </tr>\n    <tr>\n      <th>2</th>\n      <td>69</td>\n      <td>501.0</td>\n      <td>8.131108e+07</td>\n      <td>80.190763</td>\n    </tr>\n    <tr>\n      <th>3</th>\n      <td>Amateur</td>\n      <td>72524.0</td>\n      <td>1.508325e+10</td>\n      <td>74.860337</td>\n    </tr>\n    <tr>\n      <th>4</th>\n      <td>Anal</td>\n      <td>27357.0</td>\n      <td>4.808211e+09</td>\n      <td>79.202806</td>\n    </tr>\n    <tr>\n      <th>5</th>\n      <td>Anal Masturbation</td>\n      <td>1516.0</td>\n      <td>1.351440e+08</td>\n      <td>77.825696</td>\n    </tr>\n    <tr>\n      <th>6</th>\n      <td>Anal Sex</td>\n      <td>5021.0</td>\n      <td>3.804619e+08</td>\n      <td>77.301552</td>\n    </tr>\n    <tr>\n      <th>7</th>\n      <td>Animated</td>\n      <td>134.0</td>\n      <td>8.679073e+06</td>\n      <td>68.075472</td>\n    </tr>\n    <tr>\n      <th>8</th>\n      <td>Arab</td>\n      <td>1778.0</td>\n      <td>4.068213e+08</td>\n      <td>75.407080</td>\n    </tr>\n    <tr>\n      <th>9</th>\n      <td>Asian</td>\n      <td>17264.0</td>\n      <td>3.181932e+09</td>\n      <td>72.133884</td>\n    </tr>\n    <tr>\n      <th>10</th>\n      <td>BBC</td>\n      <td>17.0</td>\n      <td>5.565169e+06</td>\n      <td>77.615385</td>\n    </tr>\n    <tr>\n      <th>11</th>\n      <td>BBW</td>\n      <td>5057.0</td>\n      <td>1.209243e+09</td>\n      <td>72.929032</td>\n    </tr>\n    <tr>\n      <th>12</th>\n      <td>BDSM</td>\n      <td>2542.0</td>\n      <td>5.145560e+08</td>\n      <td>NaN</td>\n    </tr>\n    <tr>\n      <th>13</th>\n      <td>Babe</td>\n      <td>15871.0</td>\n      <td>2.386951e+09</td>\n      <td>77.454736</td>\n    </tr>\n    <tr>\n      <th>14</th>\n      <td>Babes</td>\n      <td>4873.0</td>\n      <td>1.111941e+09</td>\n      <td>NaN</td>\n    </tr>\n    <tr>\n      <th>15</th>\n      <td>Babysitter</td>\n      <td>470.0</td>\n      <td>2.996483e+08</td>\n      <td>77.416667</td>\n    </tr>\n    <tr>\n      <th>16</th>\n      <td>Babysitters</td>\n      <td>141.0</td>\n      <td>3.608116e+07</td>\n      <td>NaN</td>\n    </tr>\n    <tr>\n      <th>17</th>\n      <td>Bareback</td>\n      <td>879.0</td>\n      <td>1.772659e+06</td>\n      <td>70.325203</td>\n    </tr>\n    <tr>\n      <th>18</th>\n      <td>Bathroom</td>\n      <td>685.0</td>\n      <td>3.943301e+07</td>\n      <td>77.446429</td>\n    </tr>\n    <tr>\n      <th>19</th>\n      <td>Beach</td>\n      <td>1068.0</td>\n      <td>2.627253e+08</td>\n      <td>84.000000</td>\n    </tr>\n    <tr>\n      <th>20</th>\n      <td>Behind The Scenes</td>\n      <td>494.0</td>\n      <td>4.138981e+07</td>\n      <td>70.686047</td>\n    </tr>\n    <tr>\n      <th>21</th>\n      <td>Behind the Scenes</td>\n      <td>97.0</td>\n      <td>3.207153e+06</td>\n      <td>67.314815</td>\n    </tr>\n    <tr>\n      <th>22</th>\n      <td>Big Ass</td>\n      <td>9668.0</td>\n      <td>1.803618e+09</td>\n      <td>77.407186</td>\n    </tr>\n    <tr>\n      <th>23</th>\n      <td>Big Boobs</td>\n      <td>8763.0</td>\n      <td>1.725575e+09</td>\n      <td>NaN</td>\n    </tr>\n    <tr>\n      <th>24</th>\n      <td>Big Cock</td>\n      <td>1874.0</td>\n      <td>1.190524e+08</td>\n      <td>74.949559</td>\n    </tr>\n    <tr>\n      <th>25</th>\n      <td>Big Dick</td>\n      <td>8672.0</td>\n      <td>1.077135e+09</td>\n      <td>75.897482</td>\n    </tr>\n    <tr>\n      <th>26</th>\n      <td>Big Tits</td>\n      <td>26363.0</td>\n      <td>3.552563e+09</td>\n      <td>79.419367</td>\n    </tr>\n    <tr>\n      <th>27</th>\n      <td>Bikini</td>\n      <td>313.0</td>\n      <td>9.011748e+06</td>\n      <td>73.917910</td>\n    </tr>\n    <tr>\n      <th>28</th>\n      <td>Bisexual</td>\n      <td>62.0</td>\n      <td>2.655322e+06</td>\n      <td>72.454545</td>\n    </tr>\n    <tr>\n      <th>29</th>\n      <td>Bisexuals</td>\n      <td>699.0</td>\n      <td>1.659897e+08</td>\n      <td>NaN</td>\n    </tr>\n    <tr>\n      <th>...</th>\n      <td>...</td>\n      <td>...</td>\n      <td>...</td>\n      <td>...</td>\n    </tr>\n    <tr>\n      <th>211</th>\n      <td>Cougar</td>\n      <td>1.0</td>\n      <td>NaN</td>\n      <td>NaN</td>\n    </tr>\n    <tr>\n      <th>212</th>\n      <td>Cowgirl</td>\n      <td>2.0</td>\n      <td>NaN</td>\n      <td>NaN</td>\n    </tr>\n    <tr>\n      <th>213</th>\n      <td>Fake Tits</td>\n      <td>25.0</td>\n      <td>NaN</td>\n      <td>NaN</td>\n    </tr>\n    <tr>\n      <th>214</th>\n      <td>Female Orgasm</td>\n      <td>13.0</td>\n      <td>NaN</td>\n      <td>NaN</td>\n    </tr>\n    <tr>\n      <th>215</th>\n      <td>Gym</td>\n      <td>27.0</td>\n      <td>NaN</td>\n      <td>NaN</td>\n    </tr>\n    <tr>\n      <th>216</th>\n      <td>Hunks</td>\n      <td>4.0</td>\n      <td>NaN</td>\n      <td>NaN</td>\n    </tr>\n    <tr>\n      <th>217</th>\n      <td>Maid</td>\n      <td>6.0</td>\n      <td>NaN</td>\n      <td>NaN</td>\n    </tr>\n    <tr>\n      <th>218</th>\n      <td>Midget</td>\n      <td>3.0</td>\n      <td>NaN</td>\n      <td>NaN</td>\n    </tr>\n    <tr>\n      <th>219</th>\n      <td>Natural Tits</td>\n      <td>27.0</td>\n      <td>NaN</td>\n      <td>NaN</td>\n    </tr>\n    <tr>\n      <th>220</th>\n      <td>Nurse</td>\n      <td>4.0</td>\n      <td>NaN</td>\n      <td>NaN</td>\n    </tr>\n    <tr>\n      <th>221</th>\n      <td>Piercings</td>\n      <td>27.0</td>\n      <td>NaN</td>\n      <td>NaN</td>\n    </tr>\n    <tr>\n      <th>222</th>\n      <td>Pool</td>\n      <td>11.0</td>\n      <td>NaN</td>\n      <td>NaN</td>\n    </tr>\n    <tr>\n      <th>223</th>\n      <td>Secretary</td>\n      <td>4.0</td>\n      <td>NaN</td>\n      <td>NaN</td>\n    </tr>\n    <tr>\n      <th>224</th>\n      <td>Spectacular</td>\n      <td>6.0</td>\n      <td>NaN</td>\n      <td>NaN</td>\n    </tr>\n    <tr>\n      <th>225</th>\n      <td>Straight</td>\n      <td>15.0</td>\n      <td>NaN</td>\n      <td>NaN</td>\n    </tr>\n    <tr>\n      <th>226</th>\n      <td>Strap-on</td>\n      <td>9.0</td>\n      <td>NaN</td>\n      <td>NaN</td>\n    </tr>\n    <tr>\n      <th>227</th>\n      <td>Swallow</td>\n      <td>9.0</td>\n      <td>NaN</td>\n      <td>NaN</td>\n    </tr>\n    <tr>\n      <th>228</th>\n      <td>Toilet</td>\n      <td>3.0</td>\n      <td>NaN</td>\n      <td>NaN</td>\n    </tr>\n    <tr>\n      <th>229</th>\n      <td>Tribbing</td>\n      <td>5.0</td>\n      <td>NaN</td>\n      <td>NaN</td>\n    </tr>\n    <tr>\n      <th>230</th>\n      <td>Twink</td>\n      <td>2.0</td>\n      <td>NaN</td>\n      <td>NaN</td>\n    </tr>\n    <tr>\n      <th>231</th>\n      <td>Uniform</td>\n      <td>14.0</td>\n      <td>NaN</td>\n      <td>NaN</td>\n    </tr>\n    <tr>\n      <th>232</th>\n      <td>Vaginal Masturbation</td>\n      <td>72.0</td>\n      <td>NaN</td>\n      <td>NaN</td>\n    </tr>\n    <tr>\n      <th>233</th>\n      <td>Doctor</td>\n      <td>2.0</td>\n      <td>NaN</td>\n      <td>NaN</td>\n    </tr>\n    <tr>\n      <th>234</th>\n      <td>Doggy Style</td>\n      <td>1.0</td>\n      <td>NaN</td>\n      <td>NaN</td>\n    </tr>\n    <tr>\n      <th>235</th>\n      <td>Facesitting</td>\n      <td>1.0</td>\n      <td>NaN</td>\n      <td>NaN</td>\n    </tr>\n    <tr>\n      <th>236</th>\n      <td>Homemade</td>\n      <td>1.0</td>\n      <td>NaN</td>\n      <td>NaN</td>\n    </tr>\n    <tr>\n      <th>237</th>\n      <td>Oriental</td>\n      <td>5.0</td>\n      <td>NaN</td>\n      <td>NaN</td>\n    </tr>\n    <tr>\n      <th>238</th>\n      <td>Police</td>\n      <td>2.0</td>\n      <td>NaN</td>\n      <td>NaN</td>\n    </tr>\n    <tr>\n      <th>239</th>\n      <td>Trimmed</td>\n      <td>3.0</td>\n      <td>NaN</td>\n      <td>NaN</td>\n    </tr>\n    <tr>\n      <th>240</th>\n      <td>Young &amp; Old</td>\n      <td>1.0</td>\n      <td>NaN</td>\n      <td>NaN</td>\n    </tr>\n  </tbody>\n</table>\n<p>241 rows × 4 columns</p>\n</div>",
      "text/plain": "                 Category  Count_Total   Total_views  Avg_Rating\n0                      3D         40.0  2.807189e+06   71.650000\n1                   60fps        315.0  3.695958e+07   73.030928\n2                      69        501.0  8.131108e+07   80.190763\n3                 Amateur      72524.0  1.508325e+10   74.860337\n4                    Anal      27357.0  4.808211e+09   79.202806\n5       Anal Masturbation       1516.0  1.351440e+08   77.825696\n6                Anal Sex       5021.0  3.804619e+08   77.301552\n7                Animated        134.0  8.679073e+06   68.075472\n8                    Arab       1778.0  4.068213e+08   75.407080\n9                   Asian      17264.0  3.181932e+09   72.133884\n10                    BBC         17.0  5.565169e+06   77.615385\n11                    BBW       5057.0  1.209243e+09   72.929032\n12                   BDSM       2542.0  5.145560e+08         NaN\n13                   Babe      15871.0  2.386951e+09   77.454736\n14                  Babes       4873.0  1.111941e+09         NaN\n15             Babysitter        470.0  2.996483e+08   77.416667\n16            Babysitters        141.0  3.608116e+07         NaN\n17               Bareback        879.0  1.772659e+06   70.325203\n18               Bathroom        685.0  3.943301e+07   77.446429\n19                  Beach       1068.0  2.627253e+08   84.000000\n20      Behind The Scenes        494.0  4.138981e+07   70.686047\n21      Behind the Scenes         97.0  3.207153e+06   67.314815\n22                Big Ass       9668.0  1.803618e+09   77.407186\n23              Big Boobs       8763.0  1.725575e+09         NaN\n24               Big Cock       1874.0  1.190524e+08   74.949559\n25               Big Dick       8672.0  1.077135e+09   75.897482\n26               Big Tits      26363.0  3.552563e+09   79.419367\n27                 Bikini        313.0  9.011748e+06   73.917910\n28               Bisexual         62.0  2.655322e+06   72.454545\n29              Bisexuals        699.0  1.659897e+08         NaN\n..                    ...          ...           ...         ...\n211                Cougar          1.0           NaN         NaN\n212               Cowgirl          2.0           NaN         NaN\n213             Fake Tits         25.0           NaN         NaN\n214         Female Orgasm         13.0           NaN         NaN\n215                   Gym         27.0           NaN         NaN\n216                 Hunks          4.0           NaN         NaN\n217                  Maid          6.0           NaN         NaN\n218                Midget          3.0           NaN         NaN\n219          Natural Tits         27.0           NaN         NaN\n220                 Nurse          4.0           NaN         NaN\n221             Piercings         27.0           NaN         NaN\n222                  Pool         11.0           NaN         NaN\n223             Secretary          4.0           NaN         NaN\n224           Spectacular          6.0           NaN         NaN\n225              Straight         15.0           NaN         NaN\n226              Strap-on          9.0           NaN         NaN\n227               Swallow          9.0           NaN         NaN\n228                Toilet          3.0           NaN         NaN\n229              Tribbing          5.0           NaN         NaN\n230                 Twink          2.0           NaN         NaN\n231               Uniform         14.0           NaN         NaN\n232  Vaginal Masturbation         72.0           NaN         NaN\n233                Doctor          2.0           NaN         NaN\n234           Doggy Style          1.0           NaN         NaN\n235           Facesitting          1.0           NaN         NaN\n236              Homemade          1.0           NaN         NaN\n237              Oriental          5.0           NaN         NaN\n238                Police          2.0           NaN         NaN\n239               Trimmed          3.0           NaN         NaN\n240           Young & Old          1.0           NaN         NaN\n\n[241 rows x 4 columns]"
     },
     "execution_count": 80,
     "metadata": {},
     "output_type": "execute_result"
    }
   ],
   "source": [
    "df = pd.read_csv('database\\category_grouped.csv', sep=',', index_col = 0)\n",
    "df"
   ]
  },
  {
   "cell_type": "code",
   "execution_count": 73,
   "metadata": {},
   "outputs": [
    {
     "data": {
      "text/plain": "'\\n- 143    Old+Young 144    Old/Young 240 Young and adult -> Old and Young\\n- 161    Red Head  162    Redhead 163    Redheads -> Redheads\\n'"
     },
     "execution_count": 73,
     "metadata": {},
     "output_type": "execute_result"
    }
   ],
   "source": [
    "cat_1 = (4,13,15,20,24,26,28,34,36,42,47,51,61,78,81,95,104,109,124,126,130,134,152,154,128,171,183,191,194,208)\n",
    "cat_2 = (6,14,16,21,25,23,29,35,37,43,48,51,62,79,87,98,105,110,125,127,131,135,153,155,159,172,184,192,195,209)\n",
    "names = ('Anal Sex', 'Babes', 'Babysitters', 'Behing the Scenes','Big dick','Big boobs','Bisexuals', 'Blondes','Blowjobs','Brunettes','Cartoons','Celebrities','Cream Pie','Facials','Feet Fetish','Gays','Grannies','Handjobs','Latin','Lesbians','MILFs','Matures','Peeing','Pornstars','Licking Pussy','Shemales','Squirting','Teens','Threesomes','Webcams')\n",
    "\n",
    "\"\"\"\n",
    "- 143    Old+Young 144    Old/Young 240 Young and adult -> Old and Young\n",
    "- 161    Red Head  162    Redhead 163    Redheads -> Redheads\n",
    "\"\"\""
   ]
  },
  {
   "cell_type": "code",
   "execution_count": 78,
   "metadata": {},
   "outputs": [
    {
     "ename": "SyntaxError",
     "evalue": "invalid syntax (<ipython-input-78-ec8b9b451635>, line 4)",
     "output_type": "error",
     "traceback": [
      "\u001b[1;36m  File \u001b[1;32m\"<ipython-input-78-ec8b9b451635>\"\u001b[1;36m, line \u001b[1;32m4\u001b[0m\n\u001b[1;33m    value = [names[i], df.iloc[cat_1(i)].Count_Total+df_iloc[cat_2(i)].Count_Total, df.iloc[cat_1(i)].Total_views+df_iloc[cat_2(i)].Total_views, (((df.iloc[cat_1(i)].Avg_Rating*df.iloc[cat_1(i)].Count_Total)+(df_iloc[cat_2(i)].Avg_Rating)*df_iloc[cat_2(i)].Count_Total))/(df.iloc[cat_1(i)].Count_Total+df_iloc[cat_2(i)].Count_Total))]\u001b[0m\n\u001b[1;37m                                                                                                                                                                                                                                                                                                                                            ^\u001b[0m\n\u001b[1;31mSyntaxError\u001b[0m\u001b[1;31m:\u001b[0m invalid syntax\n"
     ]
    }
   ],
   "source": [
    "rows_list = []\n",
    "for i in range(31):\n",
    "        dict1 = {}\n",
    "        value = [names[i], df.iloc[cat_1(i)].Count_Total+df_iloc[cat_2(i)].Count_Total, df.iloc[cat_1(i)].Total_views+df_iloc[cat_2(i)].Total_views, (((df.iloc[cat_1(i)].Avg_Rating*df.iloc[cat_1(i)].Count_Total)+(df_iloc[cat_2(i)].Avg_Rating)*df_iloc[cat_2(i)].Count_Total))/(df.iloc[cat_1(i)].Count_Total+df_iloc[cat_2(i)].Count_Total))]\n",
    "        key = ['Category', 'Count_Total', 'Total_views', 'Avg_Rating']\n",
    "        dict1.update(key,value) \n",
    "\n",
    "        rows_list.append(dict1)\n",
    "\n",
    "df_2 = pd.DataFrame(rows_list) \n"
   ]
  },
  {
   "cell_type": "code",
   "execution_count": 77,
   "metadata": {},
   "outputs": [
    {
     "data": {
      "text/plain": "Index(['Category', 'Count_Total', 'Total_views', 'Avg_Rating'], dtype='object')"
     },
     "execution_count": 77,
     "metadata": {},
     "output_type": "execute_result"
    }
   ],
   "source": [
    "df.columns"
   ]
  }
 ]
}